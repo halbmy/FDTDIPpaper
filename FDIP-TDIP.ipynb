{
 "cells": [
  {
   "cell_type": "markdown",
   "metadata": {},
   "source": [
    "---\n",
    "title: \n",
    "'Processing spectral induced polarization data in frequency-domain and time-domain using pyBERT'\n",
    "tags:\n",
    "  - Python\n",
    "  - geophysics\n",
    "  - induced polarization\n",
    "authors:\n",
    "  - name: Thomas Günther\n",
    "    orcid: 0000-0003-0872-7098\n",
    "    affiliation: 1\n",
    "affiliations:\n",
    " - name: Thomas Günther, Leibniz Institute for Applied Geophysics\n",
    "   index: 1\n",
    "date: 13 August 2017\n",
    "\n",
    "bibliography: paper.bib\n",
    "---"
   ]
  },
  {
   "cell_type": "markdown",
   "metadata": {},
   "source": [
    "# Processing spectral induced polarization data in frequency-domain and time-domain using pyBERT\n",
    "\n",
    "**Summary**\n",
    "\n",
    "Spectral Induced Polarization (SIP) data can provide valuable insight into subsurface properties such as mineral or clay content. Particularly, the spectral behaviour, measured in either frequency domain (FD) or time domain (TD) gives insight into properties like grain size. For analysing IP field data, a bunch of processing steps is necessary. We present a toolbox with classes for importing data, generating automated plots, filtering, inversion and post-processing, e.g. fitting Cole-Cole models to the results. This will enable non-specialist users to evaluate their data and to obtain meaningful subsurface models."
   ]
  },
  {
   "cell_type": "markdown",
   "metadata": {},
   "source": [
    "## Introduction\n",
    "The method of induced polarization (IP) is an extension of the direct current (DC) method, also known as Electrical Resistivity Tomography (ERT), by measuring not only the voltage amplitude as a result of an injected current, but also its behaviour with time or frequency bearing information on the polarization properties in addition to the resistivity.\n",
    "\n",
    "The method has been routinely used in the field since the 1970ies, mainly for investigating ore deposits. Metallic materials like ore minerals show considerable polarisation effects that help to ease the interpretation and to distinguish them from other conductive units. Similarly large effects are also known from fault zones bearing graphite zones, or blackshales with either graphite or Pyrite.\n",
    "\n",
    "As a result of ongoing improvements of measuring instruments, the IP method has also been applied to characterize much less polarizable material like unconsolidated sediments whose polarization is originated from grains and "
   ]
  },
  {
   "cell_type": "markdown",
   "metadata": {},
   "source": [
    "## Statement of need\n",
    "There are several packages for processing ERT data, some of them are open-source. Most codes support IP, but typically only single frequency (FD) or total/integral chargeability (TD) values. To assess the spectral properties of the subsurface, a spectral inversion is needed, which is most robustly done by using regularization along the spatial dimension (time or frequency). This is the first openly available software for processing spectral IP field date."
   ]
  },
  {
   "cell_type": "markdown",
   "metadata": {},
   "source": [
    "## Methodology\n",
    "sdfsdf"
   ]
  },
  {
   "cell_type": "code",
   "execution_count": 3,
   "metadata": {},
   "outputs": [
    {
     "name": "stdout",
     "output_type": "stream",
     "text": [
      "0+untagged.3579.geafc386 C:\\Guenther.T\\src\\gimli\\gimli\\pygimli\\__init__.py\n"
     ]
    }
   ],
   "source": [
    "import pygimli as pg\n",
    "print(pg.__version__, pg.__file__)\n"
   ]
  },
  {
   "cell_type": "code",
   "execution_count": 4,
   "metadata": {},
   "outputs": [
    {
     "data": {
      "text/plain": [
       "(<matplotlib.axes._subplots.AxesSubplot at 0x20ec74c8bb0>, None)"
      ]
     },
     "execution_count": 4,
     "metadata": {},
     "output_type": "execute_result"
    },
    {
     "data": {
      "image/png": "[encoded data removed]",
      "text/plain": [
       "<Figure size 432x288 with 1 Axes>"
      ]
     },
     "metadata": {
      "needs_background": "light"
     },
     "output_type": "display_data"
    }
   ],
   "source": [
    "grid = pg.createGrid(4,3)\n",
    "pg.show(grid)"
   ]
  }
 ],
 "metadata": {
  "hide_input": false,
  "kernelspec": {
   "display_name": "Python 3",
   "language": "python",
   "name": "python3"
  },
  "language_info": {
   "codemirror_mode": {
    "name": "ipython",
    "version": 3
   },
   "file_extension": ".py",
   "mimetype": "text/x-python",
   "name": "python",
   "nbconvert_exporter": "python",
   "pygments_lexer": "ipython3",
   "version": "3.8.3"
  },
  "toc": {
   "base_numbering": 1,
   "nav_menu": {},
   "number_sections": true,
   "sideBar": true,
   "skip_h1_title": true,
   "title_cell": "Table of Contents",
   "title_sidebar": "Contents",
   "toc_cell": false,
   "toc_position": {
    "height": "calc(100% - 180px)",
    "left": "10px",
    "top": "150px",
    "width": "211.062px"
   },
   "toc_section_display": true,
   "toc_window_display": true
  },
  "varInspector": {
   "cols": {
    "lenName": 16,
    "lenType": 16,
    "lenVar": 40
   },
   "kernels_config": {
    "python": {
     "delete_cmd_postfix": "",
     "delete_cmd_prefix": "del ",
     "library": "var_list.py",
     "varRefreshCmd": "print(var_dic_list())"
    },
    "r": {
     "delete_cmd_postfix": ") ",
     "delete_cmd_prefix": "rm(",
     "library": "var_list.r",
     "varRefreshCmd": "cat(var_dic_list()) "
    }
   },
   "types_to_exclude": [
    "module",
    "function",
    "builtin_function_or_method",
    "instance",
    "_Feature"
   ],
   "window_display": false
  }
 },
 "nbformat": 4,
 "nbformat_minor": 4
}
